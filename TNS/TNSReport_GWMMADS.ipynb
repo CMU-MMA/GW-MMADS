{
 "cells": [
  {
   "cell_type": "code",
   "execution_count": 1,
   "metadata": {},
   "outputs": [
    {
     "name": "stdout",
     "output_type": "stream",
     "text": [
      "To run this you need the DECam_Candidate_Summary.csv and a file listing the name of transients to report from it!\n"
     ]
    }
   ],
   "source": [
    "from util.create_report_GWMMADS import *\n",
    "from util.useful_functions_GWMMADS import *\n",
    "from datetime import datetime, timezone\n",
    "import numpy as np\n",
    "\n",
    "print(\"To run this you need the DECam_Candidate_Summary.csv and a file listing the name of transients to report from it!\")"
   ]
  },
  {
   "cell_type": "code",
   "execution_count": 2,
   "metadata": {
    "scrolled": false,
    "tags": []
   },
   "outputs": [
    {
     "name": "stdout",
     "output_type": "stream",
     "text": [
      "hi\n",
      "{'Transient': ['C202404250807258m292735'], 'Ra': [121.8576575112944], 'Dec': [-29.45970672], 'FirstDetJD': [2460425.6077777776], 'FirstDetMag': [21.01], 'FirstDetMagErr': [0.1], 'FirstDetFilt': ['z'], 'AT_Type': ['PSN'], 'Remarks': ['']}\n",
      "                 Transient          Ra        Dec    FirstDetJD  FirstDetMag  FirstDetMagErr FirstDetFilt AT_Type Remarks\n",
      "0  C202404250807258m292735  121.857658 -29.459707  2.460426e+06        21.01             0.1            z     PSN        \n",
      "{\n",
      "  \"at_report\": {\n",
      "    \"0\": {\n",
      "      \"ra\": {\n",
      "        \"value\": \"121.8576575112944\",\n",
      "        \"error\": \"\",\n",
      "        \"units\": \"deg\"\n",
      "      },\n",
      "      \"dec\": {\n",
      "        \"value\": \"-29.45970672\",\n",
      "        \"error\": \"\",\n",
      "        \"units\": \"deg\"\n",
      "      },\n",
      "      \"reporting_group_id\": \"135\",\n",
      "      \"discovery_data_source_id\": \"135\",\n",
      "      \"reporter\": \"Tom\\u00e1s Cabrera (CMU), Lei Hu (CMU), Igor Andreoni (UMD), Keerthi Kunnumkai (CMU), Brendan O\\u2019Connor (CMU), Antonella Palmese (CMU), Aidan Catalano (CMU), on behalf of the GW-MMADS team\",\n",
      "      \"discovery_datetime\": \"2460425.6077777776\",\n",
      "      \"at_type\": \"1\",\n",
      "      \"host_name\": \"\",\n",
      "      \"host_redshift\": \"\",\n",
      "      \"transient_redshift\": \"\",\n",
      "      \"internal_name\": \"C202404250807258m292735\",\n",
      "      \"remarks\": \"\",\n",
      "      \"photometry\": {\n",
      "        \"photometry_group\": {\n",
      "          \"0\": {\n",
      "            \"obsdate\": \"2460425.6077777776\",\n",
      "            \"flux\": \"21.01\",\n",
      "            \"flux_error\": \"0.1\",\n",
      "            \"flux_units\": \"1\",\n",
      "            \"filter_value\": \"24\",\n",
      "            \"instrument_value\": \"172\"\n",
      "          }\n",
      "        }\n",
      "      },\n",
      "      \"related_files\": \"\",\n",
      "      \"non_detection\": {\n",
      "        \"archiveid\": \"0\",\n",
      "        \"archival_remarks\": \"DECam Legacy Survey\"\n",
      "      }\n",
      "    }\n",
      "  }\n",
      "}\n",
      "Sending /Users/brendan/Documents/research/DECam/TNS/GWMMADS/bulk_report_outfiles/202404261445_bulk_report.txt to the TNS...\n",
      "TNS: www.wis-tns.org\n",
      "api_key: 566f3108f69af96986fa8d84b073955976c41577\n",
      "url_tns_api: https://www.wis-tns.org/api\n",
      "json_data: \n",
      "\t{'api_key': '566f3108f69af96986fa8d84b073955976c41577', 'data': '{\\n    \"at_report\": {\\n        \"0\": {\\n            \"ra\": {\\n                \"value\": \"121.8576575112944\",\\n                \"error\": \"\",\\n                \"units\": \"deg\"\\n            },\\n            \"dec\": {\\n                \"value\": \"-29.45970672\",\\n                \"error\": \"\",\\n                \"units\": \"deg\"\\n            },\\n            \"reporting_group_id\": \"135\",\\n            \"discovery_data_source_id\": \"135\",\\n            \"reporter\": \"Tom\\\\u00e1s Cabrera (CMU), Lei Hu (CMU), Igor Andreoni (UMD), Keerthi Kunnumkai (CMU), Brendan O\\\\u2019Connor (CMU), Antonella Palmese (CMU), Aidan Catalano (CMU), on behalf of the GW-MMADS team\",\\n            \"discovery_datetime\": \"2460425.6077777776\",\\n            \"at_type\": \"1\",\\n            \"host_name\": \"\",\\n            \"host_redshift\": \"\",\\n            \"transient_redshift\": \"\",\\n            \"internal_name\": \"C202404250807258m292735\",\\n            \"remarks\": \"\",\\n            \"photometry\": {\\n                \"photometry_group\": {\\n                    \"0\": {\\n                        \"obsdate\": \"2460425.6077777776\",\\n                        \"flux\": \"21.01\",\\n                        \"flux_error\": \"0.1\",\\n                        \"flux_units\": \"1\",\\n                        \"filter_value\": \"24\",\\n                        \"instrument_value\": \"172\"\\n                    }\\n                }\\n            },\\n            \"related_files\": \"\",\\n            \"non_detection\": {\\n                \"archiveid\": \"0\",\\n                \"archival_remarks\": \"DECam Legacy Survey\"\\n            }\\n        }\\n    }\\n}'}\n",
      "The report was sent to the TNS.\n",
      "Report ID = 159181\n",
      "Sending reply for the report id 159181 ...\n",
      "TNS: www.wis-tns.org\n",
      "api_key: 566f3108f69af96986fa8d84b073955976c41577\n",
      "url_tns_api: https://www.wis-tns.org/api\n",
      "ID code = 200\n",
      "ID message = OK\n",
      "The report was successfully processed on the TNS.\n",
      "\n",
      "111\n",
      "json_data {'id_code': 200, 'id_message': 'OK', 'data': {'received_data': {'at_report': [{'ra': {'value': 121.8576575112944, 'units': 'deg'}, 'dec': {'value': -29.45970672, 'units': 'deg'}, 'reporting_group_id': 135, 'discovery_data_source_id': 135, 'reporter': 'Tomás Cabrera (CMU), Lei Hu (CMU), Igor Andreoni (UMD), Keerthi Kunnumkai (CMU), Brendan O’Connor (CMU), Antonella Palmese (CMU), Aidan Catalano (CMU), on behalf of the GW-MMADS team', 'discovery_datetime': 2460425.6077777776, 'at_type': 1, 'internal_name': 'C202404250807258m292735', 'photometry': {'photometry_group': [{'obsdate': 2460425.6077777776, 'flux': 21.01, 'flux_error': 0.1, 'flux_units': 1, 'filter_value': 24, 'instrument_value': 172}]}, 'non_detection': {'archiveid': 0, 'archival_remarks': 'DECam Legacy Survey'}}]}, 'feedback': {'at_report': [{'100': {'message': 'Transient object was inserted.', 'objname': '2024hhs', 'message_id': 100}, 'at_rep': {'103': {'message': 'Submitted', 'message_id': 103}}}]}}}\n",
      "[{'at_report': [{'100': {'message': 'Transient object was inserted.', 'objname': '2024hhs', 'message_id': 100}, 'at_rep': {'103': {'message': 'Submitted', 'message_id': 103}}}]}] feedback\n",
      "----------------------------------------------------------------------\n",
      "Message = Transient object was inserted. Object name = 2024hhs\n",
      "----------------------------------------------------------------------\n",
      "\n",
      "\n",
      "\n",
      "reply from TNS below:\n",
      "TNS: www.wis-tns.org\n",
      "api_key: 566f3108f69af96986fa8d84b073955976c41577\n",
      "url_tns_api: https://www.wis-tns.org/api\n",
      "{'id_code': 200, 'id_message': 'OK', 'data': {'received_data': {'at_report': [{'ra': {'value': 121.8576575112944, 'units': 'deg'}, 'dec': {'value': -29.45970672, 'units': 'deg'}, 'reporting_group_id': 135, 'discovery_data_source_id': 135, 'reporter': 'Tomás Cabrera (CMU), Lei Hu (CMU), Igor Andreoni (UMD), Keerthi Kunnumkai (CMU), Brendan O’Connor (CMU), Antonella Palmese (CMU), Aidan Catalano (CMU), on behalf of the GW-MMADS team', 'discovery_datetime': 2460425.6077777776, 'at_type': 1, 'internal_name': 'C202404250807258m292735', 'photometry': {'photometry_group': [{'obsdate': 2460425.6077777776, 'flux': 21.01, 'flux_error': 0.1, 'flux_units': 1, 'filter_value': 24, 'instrument_value': 172}]}, 'non_detection': {'archiveid': 0, 'archival_remarks': 'DECam Legacy Survey'}}]}, 'feedback': {'at_report': [{'100': {'message': 'Transient object was inserted.', 'objname': '2024hhs', 'message_id': 100}, 'at_rep': {'103': {'message': 'Submitted', 'message_id': 103}}}]}}}\n"
     ]
    }
   ],
   "source": [
    "# DataFrame with just transient names, remarks, and at_type about each of them\n",
    "report_sources = pd.read_csv('/Users/brendan/Documents/research/DECam/TNS/GWMMADS/EPsrc042624.csv')\n",
    "summaryfile = pd.read_csv('/Users/brendan/Documents/research/DECam/TNS/GWMMADS/04-26-24_DECam_Candidate_Summary.csv')\n",
    "# Get all the necessary info to report for each of these and assemble into a new DataFrame\n",
    "bulk_info = create_bulk_info(report_sources,summaryfile)\n",
    "print(bulk_info.to_string())\n",
    "# Using all the data, send bulk report to TNS\n",
    "bulk_report(bulk_info)\n",
    "\n"
   ]
  },
  {
   "cell_type": "code",
   "execution_count": null,
   "metadata": {},
   "outputs": [],
   "source": []
  },
  {
   "cell_type": "code",
   "execution_count": null,
   "metadata": {},
   "outputs": [],
   "source": []
  },
  {
   "cell_type": "code",
   "execution_count": null,
   "metadata": {},
   "outputs": [],
   "source": []
  }
 ],
 "metadata": {
  "kernelspec": {
   "display_name": "Python 3 (ipykernel)",
   "language": "python",
   "name": "python3"
  },
  "language_info": {
   "codemirror_mode": {
    "name": "ipython",
    "version": 3
   },
   "file_extension": ".py",
   "mimetype": "text/x-python",
   "name": "python",
   "nbconvert_exporter": "python",
   "pygments_lexer": "ipython3",
   "version": "3.6.9"
  }
 },
 "nbformat": 4,
 "nbformat_minor": 5
}
